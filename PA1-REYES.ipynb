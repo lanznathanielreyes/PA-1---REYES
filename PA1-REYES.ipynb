{
 "cells": [
  {
   "cell_type": "code",
   "execution_count": 1,
   "id": "52607ebe",
   "metadata": {},
   "outputs": [
    {
     "name": "stdout",
     "output_type": "stream",
     "text": [
      "Enter a word: lanz\n",
      "Original:  lanz\n",
      "Sorted:  alnz\n"
     ]
    }
   ],
   "source": [
    "def alphabetize_string(n):\n",
    "    return ''.join(sorted(n))\n",
    "\n",
    "n = input (\"Enter a word: \")\n",
    "result = alphabetize_string(n)\n",
    "print (\"Original: \",n)\n",
    "print (\"Sorted: \",result)"
   ]
  },
  {
   "cell_type": "code",
   "execution_count": 2,
   "id": "342901c1",
   "metadata": {},
   "outputs": [
    {
     "name": "stdout",
     "output_type": "stream",
     "text": [
      "sad smile\n",
      ":(( :)\n"
     ]
    }
   ],
   "source": [
    "s = input()\n",
    "s=s.replace(\"smile\",\":)\")\n",
    "s=s.replace(\"grin\",\":D\")\n",
    "s=s.replace(\"sad\",\":((\")\n",
    "s=s.replace(\"mad\",\">:(\")\n",
    "print (s)"
   ]
  },
  {
   "cell_type": "code",
   "execution_count": 3,
   "id": "e7aa7fe9",
   "metadata": {},
   "outputs": [
    {
     "name": "stdout",
     "output_type": "stream",
     "text": [
      "first: 1\n",
      "middle: [2, 3, 4, 5]\n",
      "last: 6\n"
     ]
    }
   ],
   "source": [
    "t = [1, 2, 3, 4, 5, 6]\n",
    "first = (t[0])\n",
    "middle = (t[1:5])\n",
    "last = (t[5])\n",
    "print(\"first:\", first)\n",
    "print(\"middle:\", middle)\n",
    "print(\"last:\", last)\n"
   ]
  },
  {
   "cell_type": "code",
   "execution_count": null,
   "id": "d1aea8a1",
   "metadata": {},
   "outputs": [],
   "source": []
  }
 ],
 "metadata": {
  "kernelspec": {
   "display_name": "Python 3 (ipykernel)",
   "language": "python",
   "name": "python3"
  },
  "language_info": {
   "codemirror_mode": {
    "name": "ipython",
    "version": 3
   },
   "file_extension": ".py",
   "mimetype": "text/x-python",
   "name": "python",
   "nbconvert_exporter": "python",
   "pygments_lexer": "ipython3",
   "version": "3.11.4"
  }
 },
 "nbformat": 4,
 "nbformat_minor": 5
}
