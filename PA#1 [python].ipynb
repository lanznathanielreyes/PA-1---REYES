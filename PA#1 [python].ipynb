{
 "cells": [
  {
   "cell_type": "markdown",
   "id": "91817a15-94ed-4018-89af-ebc84caf58c3",
   "metadata": {},
   "source": [
    "# NUMBER 1\n"
   ]
  },
  {
   "cell_type": "code",
   "execution_count": 4,
   "id": "68d1662d-87f1-4b74-b571-b5311b2065a1",
   "metadata": {},
   "outputs": [
    {
     "name": "stdin",
     "output_type": "stream",
     "text": [
      "Enter a word:  lanz\n"
     ]
    },
    {
     "name": "stdout",
     "output_type": "stream",
     "text": [
      "Original:  lanz\n",
      "Sorted:  alnz\n"
     ]
    }
   ],
   "source": [
    "n = input(\"Enter a word: \")\n",
    "result = alphabetize_string(n)\n",
    "print(\"Original: \",n)\n",
    "print(\"Sorted: \",result)"
   ]
  },
  {
   "cell_type": "markdown",
   "id": "35ca77df-565b-4966-aafd-e637690cfcbd",
   "metadata": {},
   "source": [
    "# NUMBER 2"
   ]
  },
  {
   "cell_type": "code",
   "execution_count": 7,
   "id": "9162ea69-4c1a-4d7b-9684-1a67ab337c82",
   "metadata": {},
   "outputs": [
    {
     "name": "stdin",
     "output_type": "stream",
     "text": [
      " i am mad\n"
     ]
    },
    {
     "data": {
      "text/plain": [
       "'i am >:('"
      ]
     },
     "execution_count": 7,
     "metadata": {},
     "output_type": "execute_result"
    }
   ],
   "source": [
    "s = input()\n",
    "s.replace(\"smile\",\":)\")\n",
    "s.replace(\"grin\",\":D\")\n",
    "s.replace(\"sad\",\":((\")\n",
    "s.replace(\"mad\",\">:(\")"
   ]
  },
  {
   "cell_type": "markdown",
   "id": "dc243009-b8d7-494d-a803-983a34ce6bef",
   "metadata": {},
   "source": [
    "# NUMBER 3"
   ]
  },
  {
   "cell_type": "code",
   "execution_count": 18,
   "id": "c9d02647-a168-4fe3-9755-13e551c0af8b",
   "metadata": {},
   "outputs": [
    {
     "name": "stdout",
     "output_type": "stream",
     "text": [
      "first: 1\n",
      "middle: [2, 3, 4, 5]\n",
      "last: 6\n"
     ]
    }
   ],
   "source": [
    "t = [1, 2, 3, 4, 5, 6]\n",
    "first = (t[0])\n",
    "middle = (t[1:5])\n",
    "last = (t[5])\n",
    "print(\"first:\", first)\n",
    "print(\"middle:\", middle)\n",
    "print(\"last:\", last)\n",
    "\n"
   ]
  },
  {
   "cell_type": "code",
   "execution_count": null,
   "id": "cb7c43b3-b884-4804-a9c5-c47a3ffe4e52",
   "metadata": {},
   "outputs": [],
   "source": []
  }
 ],
 "metadata": {
  "kernelspec": {
   "display_name": "Python [conda env:base] *",
   "language": "python",
   "name": "conda-base-py"
  },
  "language_info": {
   "codemirror_mode": {
    "name": "ipython",
    "version": 3
   },
   "file_extension": ".py",
   "mimetype": "text/x-python",
   "name": "python",
   "nbconvert_exporter": "python",
   "pygments_lexer": "ipython3",
   "version": "3.13.5"
  }
 },
 "nbformat": 4,
 "nbformat_minor": 5
}
